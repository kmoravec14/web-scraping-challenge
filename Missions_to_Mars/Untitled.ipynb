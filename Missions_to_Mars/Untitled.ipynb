{
 "cells": [
  {
   "cell_type": "code",
   "execution_count": 2,
   "id": "f6482143-d3be-47ab-baa5-350ce2097d47",
   "metadata": {},
   "outputs": [
    {
     "name": "stderr",
     "output_type": "stream",
     "text": [
      "[WDM] - Current google-chrome version is 97.0.4692\n",
      "[WDM] - Get LATEST driver version for 97.0.4692\n",
      "[WDM] - Get LATEST driver version for 97.0.4692\n",
      "[WDM] - Trying to download new driver from http://chromedriver.storage.googleapis.com/97.0.4692.71/chromedriver_mac64.zip\n"
     ]
    },
    {
     "name": "stdout",
     "output_type": "stream",
     "text": [
      " \n"
     ]
    },
    {
     "name": "stderr",
     "output_type": "stream",
     "text": [
      "[WDM] - Driver has been saved in cache [/Users/WilliamWright/.wdm/drivers/chromedriver/mac64/97.0.4692.71]\n"
     ]
    },
    {
     "name": "stdout",
     "output_type": "stream",
     "text": [
      "<div class=\"fancybox-inner\" style=\"overflow: visible; width: 640px; height: 350px;\"><img alt=\"\" class=\"fancybox-image\" src=\"image/featured/mars2.jpg\"/></div>\n"
     ]
    },
    {
     "data": {
      "text/plain": [
       "bs4.element.ResultSet"
      ]
     },
     "execution_count": 2,
     "metadata": {},
     "output_type": "execute_result"
    }
   ],
   "source": [
    "from splinter import Browser\n",
    "from bs4 import BeautifulSoup\n",
    "from webdriver_manager.chrome import ChromeDriverManager\n",
    "import requests\n",
    "import pymongo\n",
    "import os\n",
    "import pandas as pd\n",
    "\n",
    "executable_path = {'executable_path': ChromeDriverManager().install()}\n",
    "browser = Browser('chrome', **executable_path, headless=False)\n",
    "url = 'https://redplanetscience.com/'\n",
    "browser.visit(url)\n",
    "\n",
    "# HTML object\n",
    "html = browser.html\n",
    "# Create BeautifulSoup object; parse with 'html.parser'\n",
    "soup = BeautifulSoup(html, 'html.parser')\n",
    "results = soup.find('div', class_='list_text')\n",
    "# print(results)\n",
    "title = results.find('div', class_='content_title').text\n",
    "text = results.find('div', class_='article_teaser_body').text\n",
    "\n",
    "\n",
    "url = 'https://spaceimages-mars.com/'\n",
    "browser.visit(url)\n",
    "browser.links.find_by_partial_text('FULL IMAGE').click()\n",
    "\n",
    "# HTML object\n",
    "html = browser.html\n",
    "# Create BeautifulSoup object; parse with 'html.parser'\n",
    "soup = BeautifulSoup(html, 'html.parser')\n",
    "results = soup.find('div', class_='fancybox-inner')\n",
    "print(results)\n",
    "img = results.find('img', class_='fancybox-image').get('src')\n",
    "# img = results\n",
    "# print(img)\n",
    "featured_img_url = (url+img)\n",
    "# print(featured_image_url)\n",
    "\n",
    "url = 'https://galaxyfacts-mars.com'\n",
    "tables = pd.read_html(url)[0]\n",
    "    \n",
    "# type(tables)\n",
    "tables.columns=[\"Description\",\"Mars\",\"Earth\"]\n",
    "tables.set_index(\"Description\", inplace=True)\n",
    "# tables.to_html()\n",
    "url = 'https://marshemispheres.com/'\n",
    "browser.visit(url)\n",
    "# HTML object\n",
    "html = browser.html\n",
    "# Create BeautifulSoup object; parse with 'html.parser'\n",
    "soup = BeautifulSoup(html, 'html.parser')\n",
    "# All Hemispheres\n",
    "hemisphere_links = soup.find_all('div',class_=\"item\")\n",
    "type(hemisphere_links)\n",
    "# print(hemisphere_links)\n",
    "hemisphere_title_list =[]\n",
    "\n",
    "for hemisphere_link in hemisphere_links:\n",
    "    title = hemisphere_link.find('h3').text\n",
    "    title = title.strip(\"Enhanced\")\n",
    "    hemisphere_title_list.append(title)\n",
    "# print(hemisphere_title_list)\n",
    "\n",
    "hemisphere_url_list =[]\n",
    "for hemisphere_link in hemisphere_links:\n",
    "    link=hemisphere_link.find('a',class_=\"product-item\")['href']\n",
    "    link = (url+link)\n",
    "    browser.visit(link)\n",
    "    browser.links.find_by_partial_text('Open').click()\n",
    "    html = browser.html\n",
    "    soup = BeautifulSoup(html, 'html.parser')\n",
    "    hemisphere_url = soup.find('img',class_=\"wide-image\").get('src')\n",
    "    hemisphere_url=(url+hemisphere_url)\n",
    "    hemisphere_url_list.append(hemisphere_url)\n",
    "# print(hemisphere_url_list)\n",
    "# Create List of dictionaries for each hemisphere\n",
    "\n",
    "hemisphere_image_urls = []\n",
    "for i in range(4):\n",
    "    hemisphere_image_urls.append({\"title\":hemisphere_title_list[i],\"img_url\":hemisphere_url_list[i]})\n",
    "mars_dict = {\n",
    "    \"Title\": title,\n",
    "    \"Text\": text,\n",
    "    \"Featured_Img\": featured_img_url,\n",
    "    \"Hemishpere_Img\": hemisphere_image_urls\n",
    "}\n",
    " # Quit the browser"
   ]
  },
  {
   "cell_type": "code",
   "execution_count": 5,
   "id": "a0f14bc7-27bb-4788-8565-ac3c09bb3b64",
   "metadata": {},
   "outputs": [
    {
     "data": {
      "text/plain": [
       "dict_keys(['Title', 'Text', 'Featured_Img', 'Hemishpere_Img'])"
      ]
     },
     "execution_count": 5,
     "metadata": {},
     "output_type": "execute_result"
    }
   ],
   "source": [
    "mars_dict.keys()"
   ]
  },
  {
   "cell_type": "code",
   "execution_count": 4,
   "id": "ec2337fb-ba0a-4c53-ae79-69569d473250",
   "metadata": {},
   "outputs": [
    {
     "data": {
      "text/plain": [
       "[{'title': 'Cerberus Hemisphere ',\n",
       "  'img_url': 'https://marshemispheres.com/images/f5e372a36edfa389625da6d0cc25d905_cerberus_enhanced.tif_full.jpg'},\n",
       " {'title': 'Schiaparelli Hemisphere ',\n",
       "  'img_url': 'https://marshemispheres.com/images/3778f7b43bbbc89d6e3cfabb3613ba93_schiaparelli_enhanced.tif_full.jpg'},\n",
       " {'title': 'Syrtis Major Hemisphere ',\n",
       "  'img_url': 'https://marshemispheres.com/images/555e6403a6ddd7ba16ddb0e471cadcf7_syrtis_major_enhanced.tif_full.jpg'},\n",
       " {'title': 'Valles Marineris Hemisphere ',\n",
       "  'img_url': 'https://marshemispheres.com/images/b3c7c6c9138f57b4756be9b9c43e3a48_valles_marineris_enhanced.tif_full.jpg'}]"
      ]
     },
     "execution_count": 4,
     "metadata": {},
     "output_type": "execute_result"
    }
   ],
   "source": [
    "hemisphere_image_urls"
   ]
  },
  {
   "cell_type": "code",
   "execution_count": null,
   "id": "40d7b8e0-3058-4e91-a35f-c710e6b20a57",
   "metadata": {},
   "outputs": [],
   "source": []
  }
 ],
 "metadata": {
  "kernelspec": {
   "display_name": "Python 3 (ipykernel)",
   "language": "python",
   "name": "python3"
  },
  "language_info": {
   "codemirror_mode": {
    "name": "ipython",
    "version": 3
   },
   "file_extension": ".py",
   "mimetype": "text/x-python",
   "name": "python",
   "nbconvert_exporter": "python",
   "pygments_lexer": "ipython3",
   "version": "3.8.12"
  },
  "widgets": {
   "application/vnd.jupyter.widget-state+json": {
    "state": {},
    "version_major": 2,
    "version_minor": 0
   }
  }
 },
 "nbformat": 4,
 "nbformat_minor": 5
}
